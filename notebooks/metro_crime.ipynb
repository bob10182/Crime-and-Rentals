{
 "cells": [
  {
   "cell_type": "code",
   "execution_count": 1,
   "id": "fd955f6e",
   "metadata": {},
   "outputs": [],
   "source": [
    "import pandas as pd\n",
    "import matplotlib.pyplot as plt\n",
    "import seaborn as sns\n",
    "import math\n",
    "import re\n",
    "import numpy as np"
   ]
  },
  {
   "cell_type": "code",
   "execution_count": 3,
   "id": "bd750160",
   "metadata": {},
   "outputs": [
    {
     "ename": "FileNotFoundError",
     "evalue": "[Errno 2] No such file or directory: './data/Metro_Nashville_Police_Department_Incidents.csv'",
     "output_type": "error",
     "traceback": [
      "\u001b[1;31m---------------------------------------------------------------------------\u001b[0m",
      "\u001b[1;31mFileNotFoundError\u001b[0m                         Traceback (most recent call last)",
      "Cell \u001b[1;32mIn[3], line 1\u001b[0m\n\u001b[1;32m----> 1\u001b[0m raw_metro \u001b[38;5;241m=\u001b[39m \u001b[43mpd\u001b[49m\u001b[38;5;241;43m.\u001b[39;49m\u001b[43mread_csv\u001b[49m\u001b[43m(\u001b[49m\u001b[38;5;124;43m'\u001b[39;49m\u001b[38;5;124;43m./data/Metro_Nashville_Police_Department_Incidents.csv\u001b[39;49m\u001b[38;5;124;43m'\u001b[39;49m\u001b[43m)\u001b[49m\n\u001b[0;32m      2\u001b[0m \u001b[38;5;28mprint\u001b[39m(\u001b[38;5;124m'\u001b[39m\u001b[38;5;124mhello\u001b[39m\u001b[38;5;124m'\u001b[39m)\n",
      "File \u001b[1;32m~\\anaconda3\\lib\\site-packages\\pandas\\util\\_decorators.py:211\u001b[0m, in \u001b[0;36mdeprecate_kwarg.<locals>._deprecate_kwarg.<locals>.wrapper\u001b[1;34m(*args, **kwargs)\u001b[0m\n\u001b[0;32m    209\u001b[0m     \u001b[38;5;28;01melse\u001b[39;00m:\n\u001b[0;32m    210\u001b[0m         kwargs[new_arg_name] \u001b[38;5;241m=\u001b[39m new_arg_value\n\u001b[1;32m--> 211\u001b[0m \u001b[38;5;28;01mreturn\u001b[39;00m func(\u001b[38;5;241m*\u001b[39margs, \u001b[38;5;241m*\u001b[39m\u001b[38;5;241m*\u001b[39mkwargs)\n",
      "File \u001b[1;32m~\\anaconda3\\lib\\site-packages\\pandas\\util\\_decorators.py:331\u001b[0m, in \u001b[0;36mdeprecate_nonkeyword_arguments.<locals>.decorate.<locals>.wrapper\u001b[1;34m(*args, **kwargs)\u001b[0m\n\u001b[0;32m    325\u001b[0m \u001b[38;5;28;01mif\u001b[39;00m \u001b[38;5;28mlen\u001b[39m(args) \u001b[38;5;241m>\u001b[39m num_allow_args:\n\u001b[0;32m    326\u001b[0m     warnings\u001b[38;5;241m.\u001b[39mwarn(\n\u001b[0;32m    327\u001b[0m         msg\u001b[38;5;241m.\u001b[39mformat(arguments\u001b[38;5;241m=\u001b[39m_format_argument_list(allow_args)),\n\u001b[0;32m    328\u001b[0m         \u001b[38;5;167;01mFutureWarning\u001b[39;00m,\n\u001b[0;32m    329\u001b[0m         stacklevel\u001b[38;5;241m=\u001b[39mfind_stack_level(),\n\u001b[0;32m    330\u001b[0m     )\n\u001b[1;32m--> 331\u001b[0m \u001b[38;5;28;01mreturn\u001b[39;00m func(\u001b[38;5;241m*\u001b[39margs, \u001b[38;5;241m*\u001b[39m\u001b[38;5;241m*\u001b[39mkwargs)\n",
      "File \u001b[1;32m~\\anaconda3\\lib\\site-packages\\pandas\\io\\parsers\\readers.py:950\u001b[0m, in \u001b[0;36mread_csv\u001b[1;34m(filepath_or_buffer, sep, delimiter, header, names, index_col, usecols, squeeze, prefix, mangle_dupe_cols, dtype, engine, converters, true_values, false_values, skipinitialspace, skiprows, skipfooter, nrows, na_values, keep_default_na, na_filter, verbose, skip_blank_lines, parse_dates, infer_datetime_format, keep_date_col, date_parser, dayfirst, cache_dates, iterator, chunksize, compression, thousands, decimal, lineterminator, quotechar, quoting, doublequote, escapechar, comment, encoding, encoding_errors, dialect, error_bad_lines, warn_bad_lines, on_bad_lines, delim_whitespace, low_memory, memory_map, float_precision, storage_options)\u001b[0m\n\u001b[0;32m    935\u001b[0m kwds_defaults \u001b[38;5;241m=\u001b[39m _refine_defaults_read(\n\u001b[0;32m    936\u001b[0m     dialect,\n\u001b[0;32m    937\u001b[0m     delimiter,\n\u001b[1;32m   (...)\u001b[0m\n\u001b[0;32m    946\u001b[0m     defaults\u001b[38;5;241m=\u001b[39m{\u001b[38;5;124m\"\u001b[39m\u001b[38;5;124mdelimiter\u001b[39m\u001b[38;5;124m\"\u001b[39m: \u001b[38;5;124m\"\u001b[39m\u001b[38;5;124m,\u001b[39m\u001b[38;5;124m\"\u001b[39m},\n\u001b[0;32m    947\u001b[0m )\n\u001b[0;32m    948\u001b[0m kwds\u001b[38;5;241m.\u001b[39mupdate(kwds_defaults)\n\u001b[1;32m--> 950\u001b[0m \u001b[38;5;28;01mreturn\u001b[39;00m \u001b[43m_read\u001b[49m\u001b[43m(\u001b[49m\u001b[43mfilepath_or_buffer\u001b[49m\u001b[43m,\u001b[49m\u001b[43m \u001b[49m\u001b[43mkwds\u001b[49m\u001b[43m)\u001b[49m\n",
      "File \u001b[1;32m~\\anaconda3\\lib\\site-packages\\pandas\\io\\parsers\\readers.py:605\u001b[0m, in \u001b[0;36m_read\u001b[1;34m(filepath_or_buffer, kwds)\u001b[0m\n\u001b[0;32m    602\u001b[0m _validate_names(kwds\u001b[38;5;241m.\u001b[39mget(\u001b[38;5;124m\"\u001b[39m\u001b[38;5;124mnames\u001b[39m\u001b[38;5;124m\"\u001b[39m, \u001b[38;5;28;01mNone\u001b[39;00m))\n\u001b[0;32m    604\u001b[0m \u001b[38;5;66;03m# Create the parser.\u001b[39;00m\n\u001b[1;32m--> 605\u001b[0m parser \u001b[38;5;241m=\u001b[39m TextFileReader(filepath_or_buffer, \u001b[38;5;241m*\u001b[39m\u001b[38;5;241m*\u001b[39mkwds)\n\u001b[0;32m    607\u001b[0m \u001b[38;5;28;01mif\u001b[39;00m chunksize \u001b[38;5;129;01mor\u001b[39;00m iterator:\n\u001b[0;32m    608\u001b[0m     \u001b[38;5;28;01mreturn\u001b[39;00m parser\n",
      "File \u001b[1;32m~\\anaconda3\\lib\\site-packages\\pandas\\io\\parsers\\readers.py:1442\u001b[0m, in \u001b[0;36mTextFileReader.__init__\u001b[1;34m(self, f, engine, **kwds)\u001b[0m\n\u001b[0;32m   1439\u001b[0m     \u001b[38;5;28mself\u001b[39m\u001b[38;5;241m.\u001b[39moptions[\u001b[38;5;124m\"\u001b[39m\u001b[38;5;124mhas_index_names\u001b[39m\u001b[38;5;124m\"\u001b[39m] \u001b[38;5;241m=\u001b[39m kwds[\u001b[38;5;124m\"\u001b[39m\u001b[38;5;124mhas_index_names\u001b[39m\u001b[38;5;124m\"\u001b[39m]\n\u001b[0;32m   1441\u001b[0m \u001b[38;5;28mself\u001b[39m\u001b[38;5;241m.\u001b[39mhandles: IOHandles \u001b[38;5;241m|\u001b[39m \u001b[38;5;28;01mNone\u001b[39;00m \u001b[38;5;241m=\u001b[39m \u001b[38;5;28;01mNone\u001b[39;00m\n\u001b[1;32m-> 1442\u001b[0m \u001b[38;5;28mself\u001b[39m\u001b[38;5;241m.\u001b[39m_engine \u001b[38;5;241m=\u001b[39m \u001b[38;5;28;43mself\u001b[39;49m\u001b[38;5;241;43m.\u001b[39;49m\u001b[43m_make_engine\u001b[49m\u001b[43m(\u001b[49m\u001b[43mf\u001b[49m\u001b[43m,\u001b[49m\u001b[43m \u001b[49m\u001b[38;5;28;43mself\u001b[39;49m\u001b[38;5;241;43m.\u001b[39;49m\u001b[43mengine\u001b[49m\u001b[43m)\u001b[49m\n",
      "File \u001b[1;32m~\\anaconda3\\lib\\site-packages\\pandas\\io\\parsers\\readers.py:1735\u001b[0m, in \u001b[0;36mTextFileReader._make_engine\u001b[1;34m(self, f, engine)\u001b[0m\n\u001b[0;32m   1733\u001b[0m     \u001b[38;5;28;01mif\u001b[39;00m \u001b[38;5;124m\"\u001b[39m\u001b[38;5;124mb\u001b[39m\u001b[38;5;124m\"\u001b[39m \u001b[38;5;129;01mnot\u001b[39;00m \u001b[38;5;129;01min\u001b[39;00m mode:\n\u001b[0;32m   1734\u001b[0m         mode \u001b[38;5;241m+\u001b[39m\u001b[38;5;241m=\u001b[39m \u001b[38;5;124m\"\u001b[39m\u001b[38;5;124mb\u001b[39m\u001b[38;5;124m\"\u001b[39m\n\u001b[1;32m-> 1735\u001b[0m \u001b[38;5;28mself\u001b[39m\u001b[38;5;241m.\u001b[39mhandles \u001b[38;5;241m=\u001b[39m \u001b[43mget_handle\u001b[49m\u001b[43m(\u001b[49m\n\u001b[0;32m   1736\u001b[0m \u001b[43m    \u001b[49m\u001b[43mf\u001b[49m\u001b[43m,\u001b[49m\n\u001b[0;32m   1737\u001b[0m \u001b[43m    \u001b[49m\u001b[43mmode\u001b[49m\u001b[43m,\u001b[49m\n\u001b[0;32m   1738\u001b[0m \u001b[43m    \u001b[49m\u001b[43mencoding\u001b[49m\u001b[38;5;241;43m=\u001b[39;49m\u001b[38;5;28;43mself\u001b[39;49m\u001b[38;5;241;43m.\u001b[39;49m\u001b[43moptions\u001b[49m\u001b[38;5;241;43m.\u001b[39;49m\u001b[43mget\u001b[49m\u001b[43m(\u001b[49m\u001b[38;5;124;43m\"\u001b[39;49m\u001b[38;5;124;43mencoding\u001b[39;49m\u001b[38;5;124;43m\"\u001b[39;49m\u001b[43m,\u001b[49m\u001b[43m \u001b[49m\u001b[38;5;28;43;01mNone\u001b[39;49;00m\u001b[43m)\u001b[49m\u001b[43m,\u001b[49m\n\u001b[0;32m   1739\u001b[0m \u001b[43m    \u001b[49m\u001b[43mcompression\u001b[49m\u001b[38;5;241;43m=\u001b[39;49m\u001b[38;5;28;43mself\u001b[39;49m\u001b[38;5;241;43m.\u001b[39;49m\u001b[43moptions\u001b[49m\u001b[38;5;241;43m.\u001b[39;49m\u001b[43mget\u001b[49m\u001b[43m(\u001b[49m\u001b[38;5;124;43m\"\u001b[39;49m\u001b[38;5;124;43mcompression\u001b[39;49m\u001b[38;5;124;43m\"\u001b[39;49m\u001b[43m,\u001b[49m\u001b[43m \u001b[49m\u001b[38;5;28;43;01mNone\u001b[39;49;00m\u001b[43m)\u001b[49m\u001b[43m,\u001b[49m\n\u001b[0;32m   1740\u001b[0m \u001b[43m    \u001b[49m\u001b[43mmemory_map\u001b[49m\u001b[38;5;241;43m=\u001b[39;49m\u001b[38;5;28;43mself\u001b[39;49m\u001b[38;5;241;43m.\u001b[39;49m\u001b[43moptions\u001b[49m\u001b[38;5;241;43m.\u001b[39;49m\u001b[43mget\u001b[49m\u001b[43m(\u001b[49m\u001b[38;5;124;43m\"\u001b[39;49m\u001b[38;5;124;43mmemory_map\u001b[39;49m\u001b[38;5;124;43m\"\u001b[39;49m\u001b[43m,\u001b[49m\u001b[43m \u001b[49m\u001b[38;5;28;43;01mFalse\u001b[39;49;00m\u001b[43m)\u001b[49m\u001b[43m,\u001b[49m\n\u001b[0;32m   1741\u001b[0m \u001b[43m    \u001b[49m\u001b[43mis_text\u001b[49m\u001b[38;5;241;43m=\u001b[39;49m\u001b[43mis_text\u001b[49m\u001b[43m,\u001b[49m\n\u001b[0;32m   1742\u001b[0m \u001b[43m    \u001b[49m\u001b[43merrors\u001b[49m\u001b[38;5;241;43m=\u001b[39;49m\u001b[38;5;28;43mself\u001b[39;49m\u001b[38;5;241;43m.\u001b[39;49m\u001b[43moptions\u001b[49m\u001b[38;5;241;43m.\u001b[39;49m\u001b[43mget\u001b[49m\u001b[43m(\u001b[49m\u001b[38;5;124;43m\"\u001b[39;49m\u001b[38;5;124;43mencoding_errors\u001b[39;49m\u001b[38;5;124;43m\"\u001b[39;49m\u001b[43m,\u001b[49m\u001b[43m \u001b[49m\u001b[38;5;124;43m\"\u001b[39;49m\u001b[38;5;124;43mstrict\u001b[39;49m\u001b[38;5;124;43m\"\u001b[39;49m\u001b[43m)\u001b[49m\u001b[43m,\u001b[49m\n\u001b[0;32m   1743\u001b[0m \u001b[43m    \u001b[49m\u001b[43mstorage_options\u001b[49m\u001b[38;5;241;43m=\u001b[39;49m\u001b[38;5;28;43mself\u001b[39;49m\u001b[38;5;241;43m.\u001b[39;49m\u001b[43moptions\u001b[49m\u001b[38;5;241;43m.\u001b[39;49m\u001b[43mget\u001b[49m\u001b[43m(\u001b[49m\u001b[38;5;124;43m\"\u001b[39;49m\u001b[38;5;124;43mstorage_options\u001b[39;49m\u001b[38;5;124;43m\"\u001b[39;49m\u001b[43m,\u001b[49m\u001b[43m \u001b[49m\u001b[38;5;28;43;01mNone\u001b[39;49;00m\u001b[43m)\u001b[49m\u001b[43m,\u001b[49m\n\u001b[0;32m   1744\u001b[0m \u001b[43m\u001b[49m\u001b[43m)\u001b[49m\n\u001b[0;32m   1745\u001b[0m \u001b[38;5;28;01massert\u001b[39;00m \u001b[38;5;28mself\u001b[39m\u001b[38;5;241m.\u001b[39mhandles \u001b[38;5;129;01mis\u001b[39;00m \u001b[38;5;129;01mnot\u001b[39;00m \u001b[38;5;28;01mNone\u001b[39;00m\n\u001b[0;32m   1746\u001b[0m f \u001b[38;5;241m=\u001b[39m \u001b[38;5;28mself\u001b[39m\u001b[38;5;241m.\u001b[39mhandles\u001b[38;5;241m.\u001b[39mhandle\n",
      "File \u001b[1;32m~\\anaconda3\\lib\\site-packages\\pandas\\io\\common.py:856\u001b[0m, in \u001b[0;36mget_handle\u001b[1;34m(path_or_buf, mode, encoding, compression, memory_map, is_text, errors, storage_options)\u001b[0m\n\u001b[0;32m    851\u001b[0m \u001b[38;5;28;01melif\u001b[39;00m \u001b[38;5;28misinstance\u001b[39m(handle, \u001b[38;5;28mstr\u001b[39m):\n\u001b[0;32m    852\u001b[0m     \u001b[38;5;66;03m# Check whether the filename is to be opened in binary mode.\u001b[39;00m\n\u001b[0;32m    853\u001b[0m     \u001b[38;5;66;03m# Binary mode does not support 'encoding' and 'newline'.\u001b[39;00m\n\u001b[0;32m    854\u001b[0m     \u001b[38;5;28;01mif\u001b[39;00m ioargs\u001b[38;5;241m.\u001b[39mencoding \u001b[38;5;129;01mand\u001b[39;00m \u001b[38;5;124m\"\u001b[39m\u001b[38;5;124mb\u001b[39m\u001b[38;5;124m\"\u001b[39m \u001b[38;5;129;01mnot\u001b[39;00m \u001b[38;5;129;01min\u001b[39;00m ioargs\u001b[38;5;241m.\u001b[39mmode:\n\u001b[0;32m    855\u001b[0m         \u001b[38;5;66;03m# Encoding\u001b[39;00m\n\u001b[1;32m--> 856\u001b[0m         handle \u001b[38;5;241m=\u001b[39m \u001b[38;5;28;43mopen\u001b[39;49m\u001b[43m(\u001b[49m\n\u001b[0;32m    857\u001b[0m \u001b[43m            \u001b[49m\u001b[43mhandle\u001b[49m\u001b[43m,\u001b[49m\n\u001b[0;32m    858\u001b[0m \u001b[43m            \u001b[49m\u001b[43mioargs\u001b[49m\u001b[38;5;241;43m.\u001b[39;49m\u001b[43mmode\u001b[49m\u001b[43m,\u001b[49m\n\u001b[0;32m    859\u001b[0m \u001b[43m            \u001b[49m\u001b[43mencoding\u001b[49m\u001b[38;5;241;43m=\u001b[39;49m\u001b[43mioargs\u001b[49m\u001b[38;5;241;43m.\u001b[39;49m\u001b[43mencoding\u001b[49m\u001b[43m,\u001b[49m\n\u001b[0;32m    860\u001b[0m \u001b[43m            \u001b[49m\u001b[43merrors\u001b[49m\u001b[38;5;241;43m=\u001b[39;49m\u001b[43merrors\u001b[49m\u001b[43m,\u001b[49m\n\u001b[0;32m    861\u001b[0m \u001b[43m            \u001b[49m\u001b[43mnewline\u001b[49m\u001b[38;5;241;43m=\u001b[39;49m\u001b[38;5;124;43m\"\u001b[39;49m\u001b[38;5;124;43m\"\u001b[39;49m\u001b[43m,\u001b[49m\n\u001b[0;32m    862\u001b[0m \u001b[43m        \u001b[49m\u001b[43m)\u001b[49m\n\u001b[0;32m    863\u001b[0m     \u001b[38;5;28;01melse\u001b[39;00m:\n\u001b[0;32m    864\u001b[0m         \u001b[38;5;66;03m# Binary mode\u001b[39;00m\n\u001b[0;32m    865\u001b[0m         handle \u001b[38;5;241m=\u001b[39m \u001b[38;5;28mopen\u001b[39m(handle, ioargs\u001b[38;5;241m.\u001b[39mmode)\n",
      "\u001b[1;31mFileNotFoundError\u001b[0m: [Errno 2] No such file or directory: './data/Metro_Nashville_Police_Department_Incidents.csv'"
     ]
    }
   ],
   "source": [
    "raw_metro = pd.read_csv('../data/Metro_Nashville_Police_Department_Incidents.csv')\n",
    "print('hello')"
   ]
  },
  {
   "cell_type": "code",
   "execution_count": null,
   "id": "6c1967d9",
   "metadata": {},
   "outputs": [],
   "source": [
    "print(raw_metro.shape)\n",
    "raw_metro.head(5)"
   ]
  },
  {
   "cell_type": "code",
   "execution_count": null,
   "id": "6fcc555e",
   "metadata": {},
   "outputs": [],
   "source": [
    "raw_metro['Incident Occurred'] = pd.to_datetime(raw_metro['Incident Occurred'])"
   ]
  },
  {
   "cell_type": "code",
   "execution_count": null,
   "id": "3e14a8b7",
   "metadata": {},
   "outputs": [],
   "source": [
    "filtered_metro = raw_metro[raw_metro['Incident Occurred'] >= '2020-01-01']"
   ]
  },
  {
   "cell_type": "code",
   "execution_count": null,
   "id": "a0e68dbb",
   "metadata": {},
   "outputs": [],
   "source": [
    "raw_metro.value_counts('Offense Description').head(20)"
   ]
  },
  {
   "cell_type": "code",
   "execution_count": null,
   "id": "3aaf7123",
   "metadata": {},
   "outputs": [],
   "source": [
    "raw_metro.value_counts('Zone').head(20)"
   ]
  },
  {
   "cell_type": "code",
   "execution_count": null,
   "id": "434c7852",
   "metadata": {},
   "outputs": [],
   "source": [
    "filtered_metro"
   ]
  },
  {
   "cell_type": "code",
   "execution_count": null,
   "id": "81501f56",
   "metadata": {},
   "outputs": [],
   "source": [
    "filtered_metro.head(5)"
   ]
  },
  {
   "cell_type": "code",
   "execution_count": null,
   "id": "11d7af3c",
   "metadata": {},
   "outputs": [],
   "source": [
    "filtered_metro.value_counts('Offense Description').head(10)"
   ]
  },
  {
   "cell_type": "code",
   "execution_count": null,
   "id": "30ea0972",
   "metadata": {},
   "outputs": [],
   "source": [
    "filtered_metro.value_counts('Zone').head(10)"
   ]
  },
  {
   "cell_type": "code",
   "execution_count": null,
   "id": "3cc53a80",
   "metadata": {},
   "outputs": [],
   "source": [
    "early_metro = raw_metro[(raw_metro['Incident Occurred'] >= '2016-01-01') & (raw_metro['Incident Occurred'] < '2023-01-01')]"
   ]
  },
  {
   "cell_type": "code",
   "execution_count": null,
   "id": "acf54b49",
   "metadata": {},
   "outputs": [],
   "source": [
    "early_metro"
   ]
  },
  {
   "cell_type": "code",
   "execution_count": null,
   "id": "79ba3743",
   "metadata": {},
   "outputs": [],
   "source": [
    "early_metro.value_counts('Offense Description').head(10)"
   ]
  },
  {
   "cell_type": "code",
   "execution_count": null,
   "id": "018a1c61",
   "metadata": {},
   "outputs": [],
   "source": [
    "early_metro.value_counts('Zone').head(10)"
   ]
  },
  {
   "cell_type": "code",
   "execution_count": null,
   "id": "0a76c5f7",
   "metadata": {},
   "outputs": [],
   "source": [
    "target_metro = raw_metro[(raw_metro['Incident Occurred'] >= '2016-01-01') & (raw_metro['Incident Occurred'] < '2023-01-01')]"
   ]
  },
  {
   "cell_type": "code",
   "execution_count": null,
   "id": "4f8c5814",
   "metadata": {},
   "outputs": [],
   "source": [
    "target_metro.value_counts('Zone').head(20)"
   ]
  },
  {
   "cell_type": "code",
   "execution_count": null,
   "id": "fface949",
   "metadata": {},
   "outputs": [],
   "source": [
    "target_metro.value_counts('Offense Description').head(20)"
   ]
  },
  {
   "cell_type": "code",
   "execution_count": null,
   "id": "5cce081e",
   "metadata": {},
   "outputs": [],
   "source": [
    "top10_crimes=target_metro.value_counts('Offense Description').head(10)\n",
    "top10_crimes"
   ]
  },
  {
   "cell_type": "code",
   "execution_count": null,
   "id": "dacc944d",
   "metadata": {},
   "outputs": [],
   "source": [
    "blues = plt.cm.Blues(np.linspace(0.3, 1, 10))\n",
    "top10_crimes.plot(kind='bar',color=blues)\n",
    "\n",
    "plt.title('Top 10 Crimes in Davidson County 2016-2023')\n",
    "plt.xlabel('Type of Crime')\n",
    "plt.ylabel('Count in Thousands')\n",
    "for index,data in enumerate(top10_crimes):\n",
    "    plt.annotate(f\"{data}\", xy=(index,data), ha='center', fontsize=8)\n",
    "    \n",
    "plt.xticks(rotation=75)\n",
    "plt.show()"
   ]
  },
  {
   "cell_type": "code",
   "execution_count": null,
   "id": "1e63aa91",
   "metadata": {},
   "outputs": [],
   "source": [
    "top_10zone=target_metro.value_counts('Zone').head(10)\n",
    "top_10zone"
   ]
  },
  {
   "cell_type": "code",
   "execution_count": null,
   "id": "a422a2d8",
   "metadata": {},
   "outputs": [],
   "source": [
    "blues = plt.cm.Blues(np.linspace(0.3, 1, 10))\n",
    "top_10zone.plot(kind='bar', color = blues)\n",
    "\n",
    "plt.title('Top 10 Crimes Zones in Davidson County 2016-2023')\n",
    "plt.xlabel('Zone Number')\n",
    "plt.ylabel('Count in Thousands')\n",
    "for index,data in enumerate(top_10zone):\n",
    "    plt.annotate(f\"{data}\", xy=(index,data), ha='center', fontsize=8)\n",
    "    \n",
    "plt.xticks(rotation=75)\n",
    "plt.show()"
   ]
  },
  {
   "cell_type": "code",
   "execution_count": null,
   "id": "21e37143",
   "metadata": {},
   "outputs": [],
   "source": [
    "blues = plt.cm.Blues(np.linspace(0.3, 1, 10))\n",
    "top_10zone.plot(kind='barh', color = blues)\n",
    "\n",
    "plt.title('Top 10 Crimes Zones in Davidson County 2016-2022')\n",
    "plt.xlabel('Count in Thousands')\n",
    "plt.ylabel('Zone Number')\n",
    "for index,data in enumerate(top_10zone):\n",
    "    plt.annotate(f\"{data}\", xy=(data,index), ha='left', fontsize=6)\n",
    "\n",
    "plt.yticks(rotation=0)\n",
    "plt.show()"
   ]
  },
  {
   "cell_type": "code",
   "execution_count": null,
   "id": "d4cda8e3",
   "metadata": {},
   "outputs": [],
   "source": [
    "blues = plt.cm.Blues(np.linspace(0.3, 1, 10))\n",
    "top10_crimes.plot(kind='barh', color = blues)\n",
    "\n",
    "plt.title('Top 10 Crimes in Davidson County 2016-2022')\n",
    "plt.xlabel('Count in Thousands')\n",
    "plt.ylabel('Type of Crime')\n",
    "for index,data in enumerate(top10_crimes):\n",
    "    plt.annotate(f\"{data}\", xy=(data,index), ha='left', fontsize=6)\n",
    "\n",
    "plt.yticks(rotation=0)\n",
    "plt.show()"
   ]
  },
  {
   "cell_type": "code",
   "execution_count": null,
   "id": "63d38f05",
   "metadata": {},
   "outputs": [],
   "source": [
    "\n",
    "target_metro['Year'] = target_metro['Incident Occurred'].dt.year\n",
    "crime_by_year = target_metro['Year'].value_counts()\n",
    "print(crime_by_year)"
   ]
  },
  {
   "cell_type": "code",
   "execution_count": null,
   "id": "34e5fb78",
   "metadata": {},
   "outputs": [],
   "source": [
    "blues = plt.cm.Blues(np.linspace(0.3, 1, 10))\n",
    "crime_by_year.plot(kind='barh', color = blues)\n",
    "\n",
    "plt.title('Incidents by Year 2016-2022')\n",
    "plt.xlabel('Count in Thousands')\n",
    "plt.ylabel('Year')\n",
    "for index,data in enumerate(crime_by_year):\n",
    "    plt.annotate(f\"{data}\", xy=(data,index), ha='left', fontsize=6)\n",
    "\n",
    "plt.yticks(rotation=0)\n",
    "plt.show()"
   ]
  },
  {
   "cell_type": "code",
   "execution_count": null,
   "id": "4a49a4d6",
   "metadata": {},
   "outputs": [],
   "source": [
    "blues = plt.cm.Blues(np.linspace(0.3, 1, 10))\n",
    "crime_by_year.plot(kind='barh', color = blues)\n",
    "\n",
    "plt.title('Incidents by Year 2016-2022')\n",
    "plt.xlabel('Count in Thousands')\n",
    "plt.ylabel('Year')\n",
    "for index,data in enumerate(crime_by_year):\n",
    "    plt.annotate(f\"{data}\", xy=(data,index), xytext=(5, index+0.25), ha='left', fontsize=8)\n",
    "\n",
    "plt.yticks(rotation=0)\n",
    "plt.show()"
   ]
  },
  {
   "cell_type": "code",
   "execution_count": null,
   "id": "81b1d176",
   "metadata": {},
   "outputs": [],
   "source": [
    "crime10_zip=target_metro['ZIP Code'].value_counts().head(10)\n",
    "crime10_zip"
   ]
  },
  {
   "cell_type": "code",
   "execution_count": null,
   "id": "fb25db60",
   "metadata": {},
   "outputs": [],
   "source": [
    "zip10=crime10_zip.astype(int)\n",
    "zip10"
   ]
  },
  {
   "cell_type": "code",
   "execution_count": null,
   "id": "37bcedff",
   "metadata": {},
   "outputs": [],
   "source": [
    "blues = plt.cm.Blues(np.linspace(0.3, 1, 10))\n",
    "crime10_zip.plot(kind='barh', color = blues)\n",
    "\n",
    "plt.title('Incidents by Top Ten Zip Codes 2016-2022')\n",
    "plt.xlabel('Count in Thousands')\n",
    "plt.ylabel('Zip Codes')\n",
    "for index,data in enumerate(crime10_zip):\n",
    "    plt.annotate(f\"{data}\", xy=(data,index), ha='left', fontsize=6)\n",
    "\n",
    "plt.yticks(rotation=0)\n",
    "plt.show()"
   ]
  },
  {
   "cell_type": "code",
   "execution_count": null,
   "id": "2a6ce083",
   "metadata": {},
   "outputs": [],
   "source": []
  }
 ],
 "metadata": {
  "kernelspec": {
   "display_name": "Python 3 (ipykernel)",
   "language": "python",
   "name": "python3"
  },
  "language_info": {
   "codemirror_mode": {
    "name": "ipython",
    "version": 3
   },
   "file_extension": ".py",
   "mimetype": "text/x-python",
   "name": "python",
   "nbconvert_exporter": "python",
   "pygments_lexer": "ipython3",
   "version": "3.10.9"
  }
 },
 "nbformat": 4,
 "nbformat_minor": 5
}
